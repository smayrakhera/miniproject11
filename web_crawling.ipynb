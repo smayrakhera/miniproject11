{
  "nbformat": 4,
  "nbformat_minor": 0,
  "metadata": {
    "colab": {
      "provenance": []
    },
    "kernelspec": {
      "name": "python3",
      "display_name": "Python 3"
    },
    "language_info": {
      "name": "python"
    }
  },
  "cells": [
    {
      "cell_type": "code",
      "execution_count": null,
      "metadata": {
        "colab": {
          "base_uri": "https://localhost:8080/"
        },
        "id": "n-pFp-aPRK9i",
        "outputId": "a621886f-27f8-417a-a44c-ccedb6056d9a"
      },
      "outputs": [
        {
          "output_type": "stream",
          "name": "stdout",
          "text": [
            "Enter a website URL to scrape for emails (e.g. https://example.com): smayrakhera@gmail.com\n",
            "[*] Starting to crawl: http://smayrakhera@gmail.com\n",
            "[✓] Found 0 email(s). Saved to emails_found.txt\n"
          ]
        }
      ],
      "source": [
        "import requests\n",
        "import re\n",
        "from bs4 import BeautifulSoup\n",
        "from urllib.parse import urljoin, urlparse\n",
        "\n",
        "visited_urls = set()\n",
        "emails_found = set()\n",
        "\n",
        "def extract_emails_from_url(url):\n",
        "    try:\n",
        "        response = requests.get(url, timeout=5)\n",
        "        soup = BeautifulSoup(response.text, 'html.parser')\n",
        "\n",
        "        # Find emails using regex\n",
        "        new_emails = set(re.findall(r\"[a-zA-Z0-9._%+-]+@[a-zA-Z0-9.-]+\\.[a-zA-Z]{2,}\", response.text))\n",
        "        emails_found.update(new_emails)\n",
        "\n",
        "        # Find and crawl all links on the page\n",
        "        for link in soup.find_all('a', href=True):\n",
        "            full_url = urljoin(url, link['href'])\n",
        "            if full_url not in visited_urls and urlparse(full_url).netloc == urlparse(url).netloc:\n",
        "                visited_urls.add(full_url)\n",
        "                extract_emails_from_url(full_url)\n",
        "\n",
        "    except Exception as e:\n",
        "        print(f\"[Error] Failed to crawl {url} because: {e}\")\n",
        "\n",
        "def main():\n",
        "    start_url = input(\"Enter a website URL to scrape for emails (e.g. https://example.com): \").strip()\n",
        "    if not start_url.startswith('http'):\n",
        "        start_url = 'http://' + start_url\n",
        "\n",
        "    print(f\"[*] Starting to crawl: {start_url}\")\n",
        "    visited_urls.add(start_url)\n",
        "    extract_emails_from_url(start_url)\n",
        "\n",
        "    # Save emails to file\n",
        "    with open('emails_found.txt', 'w') as f:\n",
        "        for email in sorted(emails_found):\n",
        "            f.write(email + '\\n')\n",
        "\n",
        "    print(f\"[✓] Found {len(emails_found)} email(s). Saved to emails_found.txt\")\n",
        "\n",
        "if __name__ == \"__main__\":\n",
        "    main()\n",
        "\n"
      ]
    }
  ]
}